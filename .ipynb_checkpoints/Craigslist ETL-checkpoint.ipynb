{
 "cells": [
  {
   "cell_type": "markdown",
   "metadata": {},
   "source": [
    "This script will download craigslist rental data for Toronto proper and store the information in a Google Cloud database. \n",
    "\n",
    "Notable libraries used will be Craigslist, Pandas and Numpy"
   ]
  },
  {
   "cell_type": "code",
   "execution_count": 88,
   "metadata": {},
   "outputs": [],
   "source": [
    "#load library and class\n",
    "from craigslist import CraigslistHousing\n",
    "import pandas as pd\n",
    "import numpy as np\n"
   ]
  },
  {
   "cell_type": "code",
   "execution_count": 89,
   "metadata": {},
   "outputs": [
    {
     "name": "stdout",
     "output_type": "stream",
     "text": [
      "[{'id': '6841677680', 'repost_of': None, 'name': '255 Richmond E Parking & Utilities Icluded', 'url': 'https://toronto.craigslist.org/tor/apa/d/toronto-255-richmond-parking-utilities/6841677680.html', 'datetime': '2019-03-14 19:56', 'price': '$2200', 'where': '255 Richmond St E Toronto Unit 1410', 'has_image': True, 'has_map': True, 'geotag': (43.653118, -79.370401), 'bedrooms': '1', 'area': '550ft2'}, {'id': '6841677166', 'repost_of': None, 'name': 'Gorgeous University Apartment Space!', 'url': 'https://toronto.craigslist.org/tor/apa/d/toronto-gorgeous-university-apartment/6841677166.html', 'datetime': '2019-03-14 19:55', 'price': '$2650', 'where': '376 College St Toronto Ontario', 'has_image': True, 'has_map': True, 'geotag': (43.656996, -79.404929), 'bedrooms': '2', 'area': '800ft2'}, {'id': '6839891823', 'repost_of': '6375845070', 'name': 'Apart for rent', 'url': 'https://toronto.craigslist.org/tor/apa/d/toronto-apart-for-rent/6839891823.html', 'datetime': '2019-03-14 19:53', 'price': '$1250', 'where': 'Dufferin dupont', 'has_image': True, 'has_map': True, 'geotag': (43.665672, -79.437794), 'bedrooms': None, 'area': None}]\n"
     ]
    }
   ],
   "source": [
    "#establish query, then seek results\n",
    "cl = CraigslistHousing(site='toronto', area='tor', category='apa')\n",
    "results = cl.get_results(sort_by='newest', geotagged=True, limit=100)\n",
    "\n",
    "#Store results in a vector for easier referencing and analysis\n",
    "listings = []\n",
    "for result in results:\n",
    "    listings.append(result)\n",
    "\n",
    "#Print off top 3 to see dataset\n",
    "print (listings[:3])"
   ]
  },
  {
   "cell_type": "code",
   "execution_count": 122,
   "metadata": {},
   "outputs": [
    {
     "data": {
      "text/plain": [
       "['area',\n",
       " 'bedrooms',\n",
       " 'datetime',\n",
       " 'geotag',\n",
       " 'id',\n",
       " 'name',\n",
       " 'price',\n",
       " 'repost_of',\n",
       " 'where']"
      ]
     },
     "execution_count": 122,
     "metadata": {},
     "output_type": "execute_result"
    }
   ],
   "source": [
    "#Convert JSON to Dataframe\n",
    "df = pd.DataFrame.from_records(listings)\n",
    "\n",
    "#replace \"None\" with NA\n",
    "df.fillna(value=pd.np.nan, inplace=True)\n",
    "\n",
    "#drop unnecessary columns\n",
    "cols = [4,5,10]\n",
    "df.drop(df.columns[cols], axis=1, inplace=True)\n",
    "\n",
    "list(df)\n",
    "\n",
    "#df.head"
   ]
  },
  {
   "cell_type": "code",
   "execution_count": 123,
   "metadata": {},
   "outputs": [
    {
     "data": {
      "text/plain": [
       "array(['ft2', nan], dtype=object)"
      ]
     },
     "execution_count": 123,
     "metadata": {},
     "output_type": "execute_result"
    }
   ],
   "source": [
    "#Remove unit of measurement from area column and store separately. \n",
    "#Checking where imperial or metric units are used and consolodating to imperial\n",
    "\n",
    "df['area_measure'] = df['area'].str[-3:]\n",
    "df['area'] = df['area'].str[:-3]\n",
    "df.area_measure.unique()"
   ]
  },
  {
   "cell_type": "code",
   "execution_count": 124,
   "metadata": {},
   "outputs": [],
   "source": [
    "#Split Lat and Long into separate columns\n",
    "lat = []\n",
    "lon = []\n",
    "\n",
    "#remove leading and lagging brackets\n",
    "df['geotag']=df['geotag'].map(lambda x: str(x)[1:-1])\n",
    "\n",
    "# For each row in a varible,\n",
    "for row in df['geotag']:\n",
    "    # Try to,\n",
    "    try:\n",
    "        # Split the row by comma and append\n",
    "        # everything before the comma to lat\n",
    "        lat.append(row.split(',')[0])\n",
    "        # Split the row by comma and append\n",
    "        # everything after the comma to lon\n",
    "        lon.append(row.split(',')[1])\n",
    "    # But if you get an error\n",
    "    except:\n",
    "        # append a missing value to lat\n",
    "        lat.append(np.NaN)\n",
    "        # append a missing value to lon\n",
    "        lon.append(np.NaN)\n",
    "\n",
    "# Create two new columns from lat and lon\n",
    "df['latitude'] = lat\n",
    "df['longitude'] = lon"
   ]
  },
  {
   "cell_type": "code",
   "execution_count": 152,
   "metadata": {},
   "outputs": [
    {
     "data": {
      "text/plain": [
       "area            float64\n",
       "bedrooms        float64\n",
       "datetime         object\n",
       "geotag           object\n",
       "id              float64\n",
       "name             object\n",
       "price           float64\n",
       "repost_of       float64\n",
       "where            object\n",
       "area_measure     object\n",
       "latitude        float64\n",
       "longitude       float64\n",
       "dtype: object"
      ]
     },
     "execution_count": 152,
     "metadata": {},
     "output_type": "execute_result"
    }
   ],
   "source": [
    "#Convert Numeric Columns\n",
    "df.area = df['area'].astype(str).astype(float)\n",
    "df.bedrooms = df['bedrooms'].astype(str).astype(float)\n",
    "df.id = df['id'].astype(str).astype(float)\n",
    "df.latitude = df['latitude'].astype(str).astype(float)\n",
    "df.longitude = df['longitude'].astype(str).astype(float)\n",
    "df.repost_of = df['repost_of'].astype(str).astype(float)\n",
    "\n",
    "    #remove \"$\" from price, then convert to float\n",
    "df['price'] = df['price'].str[1:]\n",
    "df.price = df['price'].astype(str).astype(float)\n",
    "\n",
    "#Convert datetime to datetime\n",
    "df['datetime']=pd.to_datetime(df['datetime'])\n",
    "\n",
    "df.dtypes"
   ]
  },
  {
   "cell_type": "code",
   "execution_count": 182,
   "metadata": {},
   "outputs": [],
   "source": [
    "\n",
    "\n"
   ]
  },
  {
   "cell_type": "code",
   "execution_count": 183,
   "metadata": {},
   "outputs": [
    {
     "data": {
      "text/plain": [
       "area                   float64\n",
       "bedrooms               float64\n",
       "datetime        datetime64[ns]\n",
       "geotag                  object\n",
       "id                     float64\n",
       "name                    object\n",
       "price                  float64\n",
       "repost_of              float64\n",
       "where                   object\n",
       "area_measure            object\n",
       "latitude               float64\n",
       "longitude              float64\n",
       "dtype: object"
      ]
     },
     "execution_count": 183,
     "metadata": {},
     "output_type": "execute_result"
    }
   ],
   "source": []
  }
 ],
 "metadata": {
  "kernelspec": {
   "display_name": "Python 3",
   "language": "python",
   "name": "python3"
  },
  "language_info": {
   "codemirror_mode": {
    "name": "ipython",
    "version": 3
   },
   "file_extension": ".py",
   "mimetype": "text/x-python",
   "name": "python",
   "nbconvert_exporter": "python",
   "pygments_lexer": "ipython3",
   "version": "3.6.8"
  }
 },
 "nbformat": 4,
 "nbformat_minor": 2
}
